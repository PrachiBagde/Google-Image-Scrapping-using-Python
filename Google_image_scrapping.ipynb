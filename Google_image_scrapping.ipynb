{
 "cells": [
  {
   "cell_type": "code",
   "execution_count": 9,
   "id": "53127066-c8b5-4e31-8430-192c9f3c945a",
   "metadata": {},
   "outputs": [],
   "source": [
    "import requests\n",
    "from bs4 import BeautifulSoup\n",
    "from urllib.request import urlopen as uReq\n",
    "import logging\n",
    "import os"
   ]
  },
  {
   "cell_type": "code",
   "execution_count": 15,
   "id": "c1ace651-713b-44a5-9616-12f6d4e413b5",
   "metadata": {},
   "outputs": [],
   "source": [
    "save_dir = \"images/\"\n",
    "if not os.path.exists(save_dir):\n",
    "    os.makedirs(save_dir)"
   ]
  },
  {
   "cell_type": "raw",
   "id": "f67da9f5-c57d-461b-93ef-609d89cfc798",
   "metadata": {},
   "source": [
    "headers = {\"User-Agent\": \"Mozilla/5.0 (Windows NT 10.0; Win64; x64) AppleWebkit/537.36(KHTML, like Gecko) Chrome/58.0.3029.110 Safari/537.56\"}"
   ]
  },
  {
   "cell_type": "code",
   "execution_count": 49,
   "id": "2fb34a5a-fdd0-4a90-bc81-8330ca740a1d",
   "metadata": {},
   "outputs": [],
   "source": [
    "query = \"Aishwarya Rai\"\n",
    "response = requests.get(f\"https://www.google.com/search?sca_esv=04e68c913ef2a454&rlz=1C9BKJA_enIN1059IN1059&hl=en-IN&sxsrf=ADLYWIK5YFRM2d6xxD4wcJVTNbSq5W0f2g:1735559217314&q={query}&udm=2&fbs=AEQNm0Aa4sjWe7Rqy32pFwRj0UkWd8nbOJfsBGGB5IQQO6L3JzWreY9LW7LdGrLDAFqYDH3DF_waBUhtl7i7Xh3ndQb6Fn8zyWqVNDC6kxH2uU5tjMxNiRyN0Tu_IJ5U2F44t3g61CzFz2JBWAhJTb-xht_6LzY7f4dcpMn6CNH9wv57t_WlU8aPuzkPZ1e9zslXUCZi2jsHKdTxN4R4G2ipTlnIkLhU4A&sa=X&ved=2ahUKEwiJxIn1tc-KAxUTklYBHX4_N20QtKgLegQIJBAB&biw=1536&bih=791&dpr=1.25\")"
   ]
  },
  {
   "cell_type": "code",
   "execution_count": 50,
   "id": "6b5baef1-8afd-4452-9266-82e32b6fc9e5",
   "metadata": {},
   "outputs": [
    {
     "name": "stdout",
     "output_type": "stream",
     "text": [
      "<Response [200]>\n"
     ]
    }
   ],
   "source": [
    "print(response)"
   ]
  },
  {
   "cell_type": "code",
   "execution_count": 51,
   "id": "a582cfde-87ac-4adc-81b9-ce614ca5c5c5",
   "metadata": {},
   "outputs": [],
   "source": [
    "Soup = BeautifulSoup(response.content, 'html.parser')"
   ]
  },
  {
   "cell_type": "code",
   "execution_count": 52,
   "id": "271872a1-d73c-43fd-a758-4a0402b5a497",
   "metadata": {},
   "outputs": [
    {
     "data": {
      "text/plain": [
       "<!DOCTYPE html PUBLIC \"-//WAPFORUM//DTD XHTML Mobile 1.0//EN\" \"http://www.wapforum.org/DTD/xhtml-mobile10.dtd\">\n",
       "<html lang=\"en-IN\" xmlns=\"http://www.w3.org/1999/xhtml\"><head><meta content=\"application/xhtml+xml; charset=utf-8\" http-equiv=\"Content-Type\"/><meta content=\"no-cache\" name=\"Cache-Control\"/><title>Aishwarya Rai - Google Search</title><style>a{text-decoration:none;color:inherit}a:hover{text-decoration:underline}a img{border:0}body{font-family:arial,sans-serif;padding:8px;margin:0 auto;max-width:700px;min-width:240px;}.FbhRzb{border-left:thin solid #dadce0;border-right:thin solid #dadce0;border-top:thin solid #dadce0;height:40px;overflow:hidden}.n692Zd{margin-bottom:10px}.cvifge{height:40px;border-spacing:0}.QvGUP{height:40px;padding:0 8px 0 8px;vertical-align:top}.O4cRJf{height:40px;width:100%;padding:0;padding-right:14px}.O1ePr{height:40px;padding:0;vertical-align:top}.kgJEQe{height:36px;width:98px;vertical-align:top;margin-top:4px}.lXLRf{vertical-align:top}.MhzMZd{border:0;vertical-align:middle;font-size:14px;height:40px;padding:0;width:100%;padding-left:14px}.xB0fq{height:40px;border:none;font-size:14px;background-color:#1a73e8;color:#fff;padding:0 14px;margin:0;vertical-align:top;cursor:pointer}.xB0fq:focus{border:1px solid #1a73e8}.M7pB2{border:thin solid #dadce0;margin:0 0 3px 0;font-size:13px;font-weight:500;height:40px}.euZec{width:100%;height:40px;text-align:center;border-spacing:0}table.euZec td{padding:0;width:25%}.QIqI7{display:inline-block;padding-top:4px;font-weight:bold;color:#4285f4}.EY24We{border-bottom:2px solid #4285f4}.CsQyDc{display:inline-block;color:#70757a}.TuS8Ad{font-size:14px}.HddGcc{padding:8px;color:#70757a}.dzp8ae{font-weight:bold;color:#3c4043}.rEM8G{color:#70757a}.bookcf{table-layout:fixed;width:100%;border-spacing:0}.InWNIe{text-align:center}.uZgmoc{border:thin solid #dadce0;color:#70757a;font-size:14px;text-align:center;table-layout:fixed;width:100%}.frGj1b{display:block;padding:16px 0 12px 0;width:100%}.BnJWBc{text-align:center;padding:6px 0 13px 0;height:35px}.e3goi{vertical-align:top;padding:0;height:180px}.GpQGbf{margin:auto;border-collapse:collapse;border-spacing:0;width:100%}</style></head><body><style>.X6ZCif{color:#202124;font-size:11px;line-height:16px;display:inline-block;padding-top:2px;overflow:hidden;padding-bottom:4px;width:100%}.TwVfHd{border-radius:16px;border:thin solid #dadce0;display:inline-block;padding:8px 8px;margin-right:8px;margin-bottom:4px}.yekiAe{background-color:#dadce0}.jjVJ4e{width:100%}.ezO2md{border:thin solid #dadce0;padding:16px 14px 12px 14px;margin-bottom:10px;font-family:arial,sans-serif}.lIMUZd{font-family:arial,sans-serif}.RntSmf{border-spacing:0}.lgD2Tc{width:100%}.SpelHe{text-align:center}.SpelHe{position:relative}.kCmkOe{position:relative}.kCmkOe{width:162px;height:140px;line-height:140px;overflow:'hidden';text-align:center}.DS1iW{text-align:center;margin:auto;vertical-align:middle;max-width:162px;max-height:140px}.AlD19d{padding-top:2px;padding-bottom:8px;}.fYyStc{word-break:break-word}.ynsChf{display:block;white-space:nowrap;overflow:hidden;text-overflow:ellipsis}.Fj3V3b{color:#1967d2;font-size:14px;line-height:20px}.FrIlee{color:#202124;font-size:11px;line-height:16px}.F9iS2e{color:#70757a;font-size:11px;line-height:16px}.WMQ2Le{color:#70757a;font-size:12px;line-height:16px}.x3G5ab{color:#202124;font-size:12px;line-height:16px}.fuLhoc{color:#1967d2;font-size:16px;line-height:20px}.epoveb{font-size:24px;line-height:28px;font-weight:400;color:#202124}.dXDvrc{color:#0d652d;font-size:14px;line-height:20px;word-wrap:break-word}.dloBPe{font-weight:bold}.YVIcad{color:#70757a}.JkVVdd{color:#ea4335}.oXZRFd{color:#ea4335}.MQHtg{color:#fbbc04}.pyMRrb{color:#1e8e3e}.EtTZid{color:#1e8e3e}.M3vVJe{color:#1967d2}.qXLe6d{display:block}.NHQNef{font-style:italic}.Cb8Z7c{white-space:pre}a.ZWRArf{text-decoration:none}a .CVA68e:hover{text-decoration:underline}</style><div class=\"n692Zd\"><div class=\"BnJWBc\"><a class=\"lXLRf\" href=\"/?sa=X&amp;sca_esv=04e68c913ef2a454&amp;rlz=1C9BKJA_enIN1059IN1059&amp;hl=en-IN&amp;biw=1536&amp;bih=791&amp;output=images&amp;ie=UTF-8&amp;tbm=isch&amp;ved=0ahUKEwis24bUus-KAxVtSmwGHVPzIvIQPAgC\"><img alt=\"Google\" class=\"kgJEQe\" src=\"/images/branding/searchlogo/1x/googlelogo_desk_heirloom_color_150x55dp.gif\"/></a></div><div class=\"FbhRzb\"><form action=\"/search\"><input name=\"sca_esv\" type=\"hidden\" value=\"04e68c913ef2a454\"/><input name=\"rlz\" type=\"hidden\" value=\"1C9BKJA_enIN1059IN1059\"/><input name=\"hl\" type=\"hidden\" value=\"en-IN\"/><input name=\"biw\" type=\"hidden\" value=\"1536\"/><input name=\"bih\" type=\"hidden\" value=\"791\"/><input name=\"ie\" type=\"hidden\" value=\"ISO-8859-1\"/><input name=\"tbm\" type=\"hidden\" value=\"isch\"/><input name=\"oq\" type=\"hidden\"/><input name=\"aqs\" type=\"hidden\"/><table class=\"cvifge\"><tr><td class=\"O4cRJf\"><input class=\"MhzMZd\" name=\"q\" type=\"text\" value=\"Aishwarya Rai\"/></td><td class=\"O1ePr\"><input class=\"xB0fq\" type=\"submit\" value=\"Search\"/></td></tr></table></form></div><div class=\"M7pB2\"><table class=\"euZec\"><tbody><tr><td><a class=\"CsQyDc\" href=\"/search?q=Aishwarya+Rai&amp;sca_esv=04e68c913ef2a454&amp;rlz=1C9BKJA_enIN1059IN1059&amp;hl=en-IN&amp;biw=1536&amp;bih=791&amp;ie=UTF-8&amp;source=lnms&amp;fbs=AEQNm0Aa4sjWe7Rqy32pFwRj0UkWd8nbOJfsBGGB5IQQO6L3JzWreY9LW7LdGrLDAFqYDH3DF_waBUhtl7i7Xh3ndQb6Fn8zyWqVNDC6kxH2uU5tjMxNiRyN0Tu_IJ5U2F44t3g61CzFz2JBWAhJTb-xht_6LzY7f4dcpMn6CNH9wv57t_WlU8aPuzkPZ1e9zslXUCZi2jsHKdTxN4R4G2ipTlnIkLhU4A&amp;sa=X&amp;ved=0ahUKEwis24bUus-KAxVtSmwGHVPzIvIQ_AUIBCgA\">ALL</a></td><td><a class=\"CsQyDc\" href=\"/search?q=Aishwarya+Rai&amp;sca_esv=04e68c913ef2a454&amp;rlz=1C9BKJA_enIN1059IN1059&amp;hl=en-IN&amp;biw=1536&amp;bih=791&amp;ie=UTF-8&amp;tbm=nws&amp;source=lnms&amp;fbs=AEQNm0Aa4sjWe7Rqy32pFwRj0UkWd8nbOJfsBGGB5IQQO6L3JzWreY9LW7LdGrLDAFqYDH3DF_waBUhtl7i7Xh3ndQb6Fn8zyWqVNDC6kxH2uU5tjMxNiRyN0Tu_IJ5U2F44t3g61CzFz2JBWAhJTb-xht_6LzY7f4dcpMn6CNH9wv57t_WlU8aPuzkPZ1e9zslXUCZi2jsHKdTxN4R4G2ipTlnIkLhU4A&amp;sa=X&amp;ved=0ahUKEwis24bUus-KAxVtSmwGHVPzIvIQ_AUIBSgB\">NEWS</a></td><td class=\"EY24We\"><span class=\"QIqI7\">IMAGES</span></td><td><a class=\"CsQyDc\" href=\"/search?q=Aishwarya+Rai&amp;sca_esv=04e68c913ef2a454&amp;rlz=1C9BKJA_enIN1059IN1059&amp;hl=en-IN&amp;biw=1536&amp;bih=791&amp;ie=UTF-8&amp;tbm=vid&amp;source=lnms&amp;fbs=AEQNm0Aa4sjWe7Rqy32pFwRj0UkWd8nbOJfsBGGB5IQQO6L3JzWreY9LW7LdGrLDAFqYDH3DF_waBUhtl7i7Xh3ndQb6Fn8zyWqVNDC6kxH2uU5tjMxNiRyN0Tu_IJ5U2F44t3g61CzFz2JBWAhJTb-xht_6LzY7f4dcpMn6CNH9wv57t_WlU8aPuzkPZ1e9zslXUCZi2jsHKdTxN4R4G2ipTlnIkLhU4A&amp;sa=X&amp;ved=0ahUKEwis24bUus-KAxVtSmwGHVPzIvIQ_AUIBygD\">VIDEOS</a></td></tr></tbody></table></div></div><div><table class=\"GpQGbf\"><tr><td align=\"center\" class=\"e3goi\"><div class=\"jjVJ4e\"> <div> <div class=\"lIMUZd\"><div><table class=\"RntSmf\"><tr><td><a href=\"/url?q=https://en.wikipedia.org/wiki/Aishwarya_Rai_Bachchan&amp;sa=U&amp;ved=2ahUKEwis24bUus-KAxVtSmwGHVPzIvIQqoUBegQIBhAB&amp;usg=AOvVaw1R2vxnbbyiamrWxGM5A7qb\"><div class=\"kCmkOe\"><img alt=\"\" class=\"DS1iW\" src=\"https://encrypted-tbn0.gstatic.com/images?q=tbn:ANd9GcQWaJHsSrvDRtBCtPRx4ZKTuv8RRJ01FJzFc24qoMuEAgMNiAAPyk8dMQYqvQ&amp;s\"/></div></a></td></tr><tr><td><a href=\"/url?q=https://en.wikipedia.org/wiki/Aishwarya_Rai_Bachchan&amp;sa=U&amp;ved=2ahUKEwis24bUus-KAxVtSmwGHVPzIvIQr4kDegQIBhAC&amp;usg=AOvVaw2jhSaR1qFcvq5btaRa3597\"><div class=\"AlD19d\"> <span class=\"qXLe6d x3G5ab\"> <span class=\"fYyStc\">Aishwarya Rai Bachchan -...</span> </span> <span class=\"qXLe6d F9iS2e\"> <span class=\"fYyStc\">en.wikipedia.org</span> </span> </div></a></td></tr></table></div></div> </div> </div></td><td align=\"center\" class=\"e3goi\"><div class=\"jjVJ4e\"> <div> <div class=\"lIMUZd\"><div><table class=\"RntSmf\"><tr><td><a href=\"/url?q=https://www.britannica.com/biography/Aishwarya-Bachchan-Rai&amp;sa=U&amp;ved=2ahUKEwis24bUus-KAxVtSmwGHVPzIvIQqoUBegQIExAB&amp;usg=AOvVaw1I2WWUwwigeqGz-lYGck6a\"><div class=\"kCmkOe\"><img alt=\"\" class=\"DS1iW\" src=\"https://encrypted-tbn0.gstatic.com/images?q=tbn:ANd9GcSomLHd2JkKOgX0wgHeGu-9Jr4wR3w_NfTfAyFAF9eC8kdLZm4ccVCG08p8mQ&amp;s\"/></div></a></td></tr><tr><td><a href=\"/url?q=https://www.britannica.com/biography/Aishwarya-Bachchan-Rai&amp;sa=U&amp;ved=2ahUKEwis24bUus-KAxVtSmwGHVPzIvIQr4kDegQIExAC&amp;usg=AOvVaw2PkmPQDB-GFRCX1h-Pf3j5\"><div class=\"AlD19d\"> <span class=\"qXLe6d x3G5ab\"> <span class=\"fYyStc\">Aishwarya Rai Bachchan |...</span> </span> <span class=\"qXLe6d F9iS2e\"> <span class=\"fYyStc\">www.britannica.com</span> </span> </div></a></td></tr></table></div></div> </div> </div></td><td align=\"center\" class=\"e3goi\"><div class=\"jjVJ4e\"> <div> <div class=\"lIMUZd\"><div><table class=\"RntSmf\"><tr><td><a href=\"/url?q=https://www.instagram.com/celebrityshala/p/DBP5mjuTVYn/&amp;sa=U&amp;ved=2ahUKEwis24bUus-KAxVtSmwGHVPzIvIQqoUBegQIEhAB&amp;usg=AOvVaw2IdB3k7diQhLTJo_kEVz1k\"><div class=\"kCmkOe\"><img alt=\"\" class=\"DS1iW\" src=\"https://encrypted-tbn0.gstatic.com/images?q=tbn:ANd9GcQjhzg9svjE8q_kzX6wAdtqf4MhNk_mBQpgNzaE9brZtY-_p93UK7fsQiRedw&amp;s\"/></div></a></td></tr><tr><td><a href=\"/url?q=https://www.instagram.com/celebrityshala/p/DBP5mjuTVYn/&amp;sa=U&amp;ved=2ahUKEwis24bUus-KAxVtSmwGHVPzIvIQr4kDegQIEhAC&amp;usg=AOvVaw2eiydUqcU7bTQh4rPA4Q81\"><div class=\"AlD19d\"> <span class=\"qXLe6d x3G5ab\"> <span class=\"fYyStc\">Aishwarya Rai Bachchan was...</span> </span> <span class=\"qXLe6d F9iS2e\"> <span class=\"fYyStc\">www.instagram.com</span> </span> </div></a></td></tr></table></div></div> </div> </div></td><td align=\"center\" class=\"e3goi\"><div class=\"jjVJ4e\"> <div> <div class=\"lIMUZd\"><div><table class=\"RntSmf\"><tr><td><a href=\"/url?q=https://www.imdb.com/name/nm0706787/bio/&amp;sa=U&amp;ved=2ahUKEwis24bUus-KAxVtSmwGHVPzIvIQqoUBegQICxAB&amp;usg=AOvVaw2AJ0aDLtqsWeaKzHGzBvjD\"><div class=\"kCmkOe\"><img alt=\"\" class=\"DS1iW\" src=\"https://encrypted-tbn0.gstatic.com/images?q=tbn:ANd9GcQ6qXtbuyywJLhMV0fJ-rlvkOBqpoDsoVreLQcq0NIAr6Cn4h3lHUVw1R9R-m0&amp;s\"/></div></a></td></tr><tr><td><a href=\"/url?q=https://www.imdb.com/name/nm0706787/bio/&amp;sa=U&amp;ved=2ahUKEwis24bUus-KAxVtSmwGHVPzIvIQr4kDegQICxAC&amp;usg=AOvVaw2-NSEXUzeVMV3FxpT7ckpt\"><div class=\"AlD19d\"> <span class=\"qXLe6d x3G5ab\"> <span class=\"fYyStc\">Aishwarya Rai Bachchan -...</span> </span> <span class=\"qXLe6d F9iS2e\"> <span class=\"fYyStc\">www.imdb.com</span> </span> </div></a></td></tr></table></div></div> </div> </div></td></tr><tr><td align=\"center\" class=\"e3goi\"><div class=\"jjVJ4e\"> <div> <div class=\"lIMUZd\"><div><table class=\"RntSmf\"><tr><td><a href=\"/url?q=https://www.instagram.com/aishwaryarai_only/p/DCPDLQiTthu/&amp;sa=U&amp;ved=2ahUKEwis24bUus-KAxVtSmwGHVPzIvIQqoUBegQIDBAB&amp;usg=AOvVaw1h_YvxqdGLqQ80NbIB6_6x\"><div class=\"kCmkOe\"><img alt=\"\" class=\"DS1iW\" src=\"https://encrypted-tbn0.gstatic.com/images?q=tbn:ANd9GcQUX8b_yEr2dY89toG3MWw1VVw9PugmD5NiaAPIUh6n6s-DtyIoAGMql2MnGg&amp;s\"/></div></a></td></tr><tr><td><a href=\"/url?q=https://www.instagram.com/aishwaryarai_only/p/DCPDLQiTthu/&amp;sa=U&amp;ved=2ahUKEwis24bUus-KAxVtSmwGHVPzIvIQr4kDegQIDBAC&amp;usg=AOvVaw2cLMzz8C99LKfW-jZJUGPV\"><div class=\"AlD19d\"> <span class=\"qXLe6d x3G5ab\"> <span class=\"fYyStc\">Queen of Cannes 💙💚💙 * *...</span> </span> <span class=\"qXLe6d F9iS2e\"> <span class=\"fYyStc\">www.instagram.com</span> </span> </div></a></td></tr></table></div></div> </div> </div></td><td align=\"center\" class=\"e3goi\"><div class=\"jjVJ4e\"> <div> <div class=\"lIMUZd\"><div><table class=\"RntSmf\"><tr><td><a href=\"/url?q=https://www.instagram.com/aishwaryarai_4ever/p/DAJYzhhMjmm/&amp;sa=U&amp;ved=2ahUKEwis24bUus-KAxVtSmwGHVPzIvIQqoUBegQIDxAB&amp;usg=AOvVaw15h9xYePCj_-MZBH5se3Bf\"><div class=\"kCmkOe\"><img alt=\"\" class=\"DS1iW\" src=\"https://encrypted-tbn0.gstatic.com/images?q=tbn:ANd9GcTkCj0rRAbUZN_KoYEjccVApR-qLAxrfAPheunLaymwvufFzrlow_Mmm_aL9D4&amp;s\"/></div></a></td></tr><tr><td><a href=\"/url?q=https://www.instagram.com/aishwaryarai_4ever/p/DAJYzhhMjmm/&amp;sa=U&amp;ved=2ahUKEwis24bUus-KAxVtSmwGHVPzIvIQr4kDegQIDxAC&amp;usg=AOvVaw0JCBWlkVUACb0Y-p3qFZkF\"><div class=\"AlD19d\"> <span class=\"qXLe6d x3G5ab\"> <span class=\"fYyStc\">Aishwarya Rai at SIIMA...</span> </span> <span class=\"qXLe6d F9iS2e\"> <span class=\"fYyStc\">www.instagram.com</span> </span> </div></a></td></tr></table></div></div> </div> </div></td><td align=\"center\" class=\"e3goi\"><div class=\"jjVJ4e\"> <div> <div class=\"lIMUZd\"><div><table class=\"RntSmf\"><tr><td><a href=\"/url?q=https://www.newsx.com/entertainment/controversial-moments-in-aishwarya-rai-bachchans-personal-life-a-look-back/&amp;sa=U&amp;ved=2ahUKEwis24bUus-KAxVtSmwGHVPzIvIQqoUBegQIERAB&amp;usg=AOvVaw0F6qwB_qF2lHmea4YAj6vJ\"><div class=\"kCmkOe\"><img alt=\"\" class=\"DS1iW\" src=\"https://encrypted-tbn0.gstatic.com/images?q=tbn:ANd9GcTxEW1hVnH6njqNEQDhWktb996sTnEaHM5dz_hSzzCSMqL6tM7VnRPWmM18fXA&amp;s\"/></div></a></td></tr><tr><td><a href=\"/url?q=https://www.newsx.com/entertainment/controversial-moments-in-aishwarya-rai-bachchans-personal-life-a-look-back/&amp;sa=U&amp;ved=2ahUKEwis24bUus-KAxVtSmwGHVPzIvIQr4kDegQIERAC&amp;usg=AOvVaw0rG5Pk4SWcxpoF3HqKcg4m\"><div class=\"AlD19d\"> <span class=\"qXLe6d x3G5ab\"> <span class=\"fYyStc\">Controversial Moments In...</span> </span> <span class=\"qXLe6d F9iS2e\"> <span class=\"fYyStc\">www.newsx.com</span> </span> </div></a></td></tr></table></div></div> </div> </div></td><td align=\"center\" class=\"e3goi\"><div class=\"jjVJ4e\"> <div> <div class=\"lIMUZd\"><div><table class=\"RntSmf\"><tr><td><a href=\"/url?q=https://en.wikipedia.org/wiki/Aishwarya_Rai_Bachchan&amp;sa=U&amp;ved=2ahUKEwis24bUus-KAxVtSmwGHVPzIvIQqoUBegQICRAB&amp;usg=AOvVaw1vg7_gGYKDFmAq6k3Z6UPY\"><div class=\"kCmkOe\"><img alt=\"\" class=\"DS1iW\" src=\"https://encrypted-tbn0.gstatic.com/images?q=tbn:ANd9GcRHfzVZ20_SjNKdgTxg_CHXzK_wxSq3MxkVmPi5k0nazC3xnXmDE81lfmyROQ&amp;s\"/></div></a></td></tr><tr><td><a href=\"/url?q=https://en.wikipedia.org/wiki/Aishwarya_Rai_Bachchan&amp;sa=U&amp;ved=2ahUKEwis24bUus-KAxVtSmwGHVPzIvIQr4kDegQICRAC&amp;usg=AOvVaw2p8bq5aLUX4ffydPJtdkny\"><div class=\"AlD19d\"> <span class=\"qXLe6d x3G5ab\"> <span class=\"fYyStc\">Aishwarya Rai Bachchan -...</span> </span> <span class=\"qXLe6d F9iS2e\"> <span class=\"fYyStc\">en.wikipedia.org</span> </span> </div></a></td></tr></table></div></div> </div> </div></td></tr><tr><td align=\"center\" class=\"e3goi\"><div class=\"jjVJ4e\"> <div> <div class=\"lIMUZd\"><div><table class=\"RntSmf\"><tr><td><a href=\"/url?q=https://s.sparklekids.in/%3Fr%3D93741186470&amp;sa=U&amp;ved=2ahUKEwis24bUus-KAxVtSmwGHVPzIvIQqoUBegQIChAB&amp;usg=AOvVaw3BkqRnYnoj3OVSdwSLPRjT\"><div class=\"kCmkOe\"><img alt=\"\" class=\"DS1iW\" src=\"https://encrypted-tbn0.gstatic.com/images?q=tbn:ANd9GcTnUl-RBdkY4W-E92O2VPeSKIOxP8rF4HNbqjUJH6wh7AxD4g9I_eULbL_bNJ0&amp;s\"/></div></a></td></tr><tr><td><a href=\"/url?q=https://s.sparklekids.in/%3Fr%3D93741186470&amp;sa=U&amp;ved=2ahUKEwis24bUus-KAxVtSmwGHVPzIvIQr4kDegQIChAC&amp;usg=AOvVaw0KkDNreDnP8RMOYfAm-VAn\"><div class=\"AlD19d\"> <span class=\"qXLe6d x3G5ab\"> <span class=\"fYyStc\">Aishwarya Rai royal markss...</span> </span> <span class=\"qXLe6d F9iS2e\"> <span class=\"fYyStc\">s.sparklekids.in</span> </span> </div></a></td></tr></table></div></div> </div> </div></td><td align=\"center\" class=\"e3goi\"><div class=\"jjVJ4e\"> <div> <div class=\"lIMUZd\"><div><table class=\"RntSmf\"><tr><td><a href=\"/url?q=https://www.telegraphindia.com/entertainment/aishwarya-rai-bachchan-and-daughter-aaradhya-shine-in-matching-outfits-at-siima-2024-see-pictures-photogallery/cid/2048313&amp;sa=U&amp;ved=2ahUKEwis24bUus-KAxVtSmwGHVPzIvIQqoUBegQIEBAB&amp;usg=AOvVaw3vo-KXqRW_pmqCcl2jY-ww\"><div class=\"kCmkOe\"><img alt=\"\" class=\"DS1iW\" src=\"https://encrypted-tbn0.gstatic.com/images?q=tbn:ANd9GcSpWx2ATORwoGYSPTIrqkRTbjhlb17SoToWeiKNtLa-so0OiN9Rw09uU9wQpA&amp;s\"/></div></a></td></tr><tr><td><a href=\"/url?q=https://www.telegraphindia.com/entertainment/aishwarya-rai-bachchan-and-daughter-aaradhya-shine-in-matching-outfits-at-siima-2024-see-pictures-photogallery/cid/2048313&amp;sa=U&amp;ved=2ahUKEwis24bUus-KAxVtSmwGHVPzIvIQr4kDegQIEBAC&amp;usg=AOvVaw2Clk5ICKj1PfLg7w_HEcrB\"><div class=\"AlD19d\"> <span class=\"qXLe6d x3G5ab\"> <span class=\"fYyStc\">Aishwarya Rai | Aishwarya...</span> </span> <span class=\"qXLe6d F9iS2e\"> <span class=\"fYyStc\">www.telegraphindia.com</span> </span> </div></a></td></tr></table></div></div> </div> </div></td><td align=\"center\" class=\"e3goi\"><div class=\"jjVJ4e\"> <div> <div class=\"lIMUZd\"><div><table class=\"RntSmf\"><tr><td><a href=\"/url?q=https://in.pinterest.com/pin/aishwarya-raiii--7107311905881837/&amp;sa=U&amp;ved=2ahUKEwis24bUus-KAxVtSmwGHVPzIvIQqoUBegQIDhAB&amp;usg=AOvVaw2MBWxUMn01yD0oj4P3lolZ\"><div class=\"kCmkOe\"><img alt=\"\" class=\"DS1iW\" src=\"https://encrypted-tbn0.gstatic.com/images?q=tbn:ANd9GcSch3M7O63_3yD8vS_RRc9JywT1H-y2B4moFxGelro5PLtUt8gACKMmU7eW5w&amp;s\"/></div></a></td></tr><tr><td><a href=\"/url?q=https://in.pinterest.com/pin/aishwarya-raiii--7107311905881837/&amp;sa=U&amp;ved=2ahUKEwis24bUus-KAxVtSmwGHVPzIvIQr4kDegQIDhAC&amp;usg=AOvVaw0GaXU1uMpcOMYLhIo7Wqsj\"><div class=\"AlD19d\"> <span class=\"qXLe6d x3G5ab\"> <span class=\"fYyStc\">Pin page</span> </span> <span class=\"qXLe6d F9iS2e\"> <span class=\"fYyStc\">in.pinterest.com</span> </span> </div></a></td></tr></table></div></div> </div> </div></td><td align=\"center\" class=\"e3goi\"><div class=\"jjVJ4e\"> <div> <div class=\"lIMUZd\"><div><table class=\"RntSmf\"><tr><td><a href=\"/url?q=https://www.thehealthsite.com/webstories/beauty/aishwarya-rai-bachchan-beauty-secrets-6-natural-anti-aging-tips-for-glowing-skin-1040315/&amp;sa=U&amp;ved=2ahUKEwis24bUus-KAxVtSmwGHVPzIvIQqoUBegQIDRAB&amp;usg=AOvVaw1E8C2eaXHFGwQSKjyNr3P6\"><div class=\"kCmkOe\"><img alt=\"\" class=\"DS1iW\" src=\"https://encrypted-tbn0.gstatic.com/images?q=tbn:ANd9GcRitKN3BLw8tsq6EunUf05eOYZJnZhz24Au1mycmYi90lA_fN3-ElMV7gJpfN4&amp;s\"/></div></a></td></tr><tr><td><a href=\"/url?q=https://www.thehealthsite.com/webstories/beauty/aishwarya-rai-bachchan-beauty-secrets-6-natural-anti-aging-tips-for-glowing-skin-1040315/&amp;sa=U&amp;ved=2ahUKEwis24bUus-KAxVtSmwGHVPzIvIQr4kDegQIDRAC&amp;usg=AOvVaw1kG5MtLi6YnRMxKrrKaZpn\"><div class=\"AlD19d\"> <span class=\"qXLe6d x3G5ab\"> <span class=\"fYyStc\">Aishwarya Rai Bachchan...</span> </span> <span class=\"qXLe6d F9iS2e\"> <span class=\"fYyStc\">www.thehealthsite.com</span> </span> </div></a></td></tr></table></div></div> </div> </div></td></tr><tr><td align=\"center\" class=\"e3goi\"><div class=\"jjVJ4e\"> <div> <div class=\"lIMUZd\"><div><table class=\"RntSmf\"><tr><td><a href=\"/url?q=https://www.bollywoodshaadis.com/articles/aishwarya-rai-hollywood-stars-lip-lock-57743&amp;sa=U&amp;ved=2ahUKEwis24bUus-KAxVtSmwGHVPzIvIQqoUBegQIARAB&amp;usg=AOvVaw2ueNmiXZH6QmP_yBunRIuK\"><div class=\"kCmkOe\"><img alt=\"\" class=\"DS1iW\" src=\"https://encrypted-tbn0.gstatic.com/images?q=tbn:ANd9GcTWKBUbQJQ6RKVvuCoIWaMJ3T0csfQ4FW9jXMavtxA80ZKh6MQPSbzE-zjWDw&amp;s\"/></div></a></td></tr><tr><td><a href=\"/url?q=https://www.bollywoodshaadis.com/articles/aishwarya-rai-hollywood-stars-lip-lock-57743&amp;sa=U&amp;ved=2ahUKEwis24bUus-KAxVtSmwGHVPzIvIQr4kDegQIARAC&amp;usg=AOvVaw0GpVq4s1GVdp5BsVwZW8Gg\"><div class=\"AlD19d\"> <span class=\"qXLe6d x3G5ab\"> <span class=\"fYyStc\">When Aishwarya Rai Refused...</span> </span> <span class=\"qXLe6d F9iS2e\"> <span class=\"fYyStc\">www.bollywoodshaadis.com</span> </span> </div></a></td></tr></table></div></div> </div> </div></td><td align=\"center\" class=\"e3goi\"><div class=\"jjVJ4e\"> <div> <div class=\"lIMUZd\"><div><table class=\"RntSmf\"><tr><td><a href=\"/url?q=https://www.filmcompanion.in/features/bollywood-features/aishwarya-rai-bachchan-and-beauty-as-an-armour&amp;sa=U&amp;ved=2ahUKEwis24bUus-KAxVtSmwGHVPzIvIQqoUBegQIBRAB&amp;usg=AOvVaw35tFKycVxt3FruIl_CVrwt\"><div class=\"kCmkOe\"><img alt=\"\" class=\"DS1iW\" src=\"https://encrypted-tbn0.gstatic.com/images?q=tbn:ANd9GcT0-UdUdmNVoJFKq93X_NuqNVx7LiMnVsTWObakCuXc37o2yynpNuZJQVYNWg&amp;s\"/></div></a></td></tr><tr><td><a href=\"/url?q=https://www.filmcompanion.in/features/bollywood-features/aishwarya-rai-bachchan-and-beauty-as-an-armour&amp;sa=U&amp;ved=2ahUKEwis24bUus-KAxVtSmwGHVPzIvIQr4kDegQIBRAC&amp;usg=AOvVaw11C3j7oAQrlOHiygMUPPjn\"><div class=\"AlD19d\"> <span class=\"qXLe6d x3G5ab\"> <span class=\"fYyStc\">Aishwarya Rai Bachchan and...</span> </span> <span class=\"qXLe6d F9iS2e\"> <span class=\"fYyStc\">www.filmcompanion.in</span> </span> </div></a></td></tr></table></div></div> </div> </div></td><td align=\"center\" class=\"e3goi\"><div class=\"jjVJ4e\"> <div> <div class=\"lIMUZd\"><div><table class=\"RntSmf\"><tr><td><a href=\"/url?q=https://getfleek.app/blog/aishwarya-rai-movies&amp;sa=U&amp;ved=2ahUKEwis24bUus-KAxVtSmwGHVPzIvIQqoUBegQIAxAB&amp;usg=AOvVaw36bS_BrgM6VYOprWTf9tJC\"><div class=\"kCmkOe\"><img alt=\"\" class=\"DS1iW\" src=\"https://encrypted-tbn0.gstatic.com/images?q=tbn:ANd9GcQ7JzAN0tRy8uNrhvpzmnopJM1B1bTyxvWgwT4bc1erA_RZtand0W-5_VtI2A&amp;s\"/></div></a></td></tr><tr><td><a href=\"/url?q=https://getfleek.app/blog/aishwarya-rai-movies&amp;sa=U&amp;ved=2ahUKEwis24bUus-KAxVtSmwGHVPzIvIQr4kDegQIAxAC&amp;usg=AOvVaw2UfKcng5auVblB91sgUdEo\"><div class=\"AlD19d\"> <span class=\"qXLe6d x3G5ab\"> <span class=\"fYyStc\">10 Iconic Aishwarya Rai...</span> </span> <span class=\"qXLe6d F9iS2e\"> <span class=\"fYyStc\">getfleek.app</span> </span> </div></a></td></tr></table></div></div> </div> </div></td><td align=\"center\" class=\"e3goi\"><div class=\"jjVJ4e\"> <div> <div class=\"lIMUZd\"><div><table class=\"RntSmf\"><tr><td><a href=\"/url?q=https://m.economictimes.com/magazines/panache/wamiqa-gabbi-really-looks-like-aishwarya-rai-netizens-share-pics-to-prove/articleshow/116672011.cms&amp;sa=U&amp;ved=2ahUKEwis24bUus-KAxVtSmwGHVPzIvIQqoUBegQIBxAB&amp;usg=AOvVaw0e88Al2cgFu7VFtfYIkdtv\"><div class=\"kCmkOe\"><img alt=\"\" class=\"DS1iW\" src=\"https://encrypted-tbn0.gstatic.com/images?q=tbn:ANd9GcSJ86eOsdBn-QWtpM0igjpwHQR_3ClljwwQTVOFdhTg32K0nFaaZXSq_7GghpY&amp;s\"/></div></a></td></tr><tr><td><a href=\"/url?q=https://m.economictimes.com/magazines/panache/wamiqa-gabbi-really-looks-like-aishwarya-rai-netizens-share-pics-to-prove/articleshow/116672011.cms&amp;sa=U&amp;ved=2ahUKEwis24bUus-KAxVtSmwGHVPzIvIQr4kDegQIBxAC&amp;usg=AOvVaw1eUIcPaedrRJpswLm4xGKW\"><div class=\"AlD19d\"> <span class=\"qXLe6d x3G5ab\"> <span class=\"fYyStc\">Wamiqa Gabbi really looks...</span> </span> <span class=\"qXLe6d F9iS2e\"> <span class=\"fYyStc\">m.economictimes.com</span> </span> </div></a></td></tr></table></div></div> </div> </div></td></tr><tr><td align=\"center\" class=\"e3goi\"><div class=\"jjVJ4e\"> <div> <div class=\"lIMUZd\"><div><table class=\"RntSmf\"><tr><td><a href=\"/url?q=https://www.facebook.com/aishwarya286/&amp;sa=U&amp;ved=2ahUKEwis24bUus-KAxVtSmwGHVPzIvIQqoUBegQIAhAB&amp;usg=AOvVaw1fkPEacALTD7MtNw0vYqgA\"><div class=\"kCmkOe\"><img alt=\"\" class=\"DS1iW\" src=\"https://encrypted-tbn0.gstatic.com/images?q=tbn:ANd9GcREPmSh_4brbTg61fkfVgcGl5QeFsdWZ0LmxymP2HRTTluYIFN9vQvnx-gQoQ&amp;s\"/></div></a></td></tr><tr><td><a href=\"/url?q=https://www.facebook.com/aishwarya286/&amp;sa=U&amp;ved=2ahUKEwis24bUus-KAxVtSmwGHVPzIvIQr4kDegQIAhAC&amp;usg=AOvVaw3aNBLT_9de2USjsrlHg4Tp\"><div class=\"AlD19d\"> <span class=\"qXLe6d x3G5ab\"> <span class=\"fYyStc\">Aishwarya Rai</span> </span> <span class=\"qXLe6d F9iS2e\"> <span class=\"fYyStc\">www.facebook.com</span> </span> </div></a></td></tr></table></div></div> </div> </div></td><td align=\"center\" class=\"e3goi\"><div class=\"jjVJ4e\"> <div> <div class=\"lIMUZd\"><div><table class=\"RntSmf\"><tr><td><a href=\"/url?q=https://www.onmanorama.com/entertainment/entertainment-news/2024/07/15/aaradhya-aishwarya-rai-paparazzi-encounter-anant-ambani-wedding-mumbai.html&amp;sa=U&amp;ved=2ahUKEwis24bUus-KAxVtSmwGHVPzIvIQqoUBegQICBAB&amp;usg=AOvVaw2yfH7gBvFwQlYElf0Ts0D4\"><div class=\"kCmkOe\"><img alt=\"\" class=\"DS1iW\" src=\"https://encrypted-tbn0.gstatic.com/images?q=tbn:ANd9GcSLtyy0F1B7C5IlQ3x_NEJN-gQO1Jad5VluYcpCNILHzKxKi4_35tM_zu1kmpE&amp;s\"/></div></a></td></tr><tr><td><a href=\"/url?q=https://www.onmanorama.com/entertainment/entertainment-news/2024/07/15/aaradhya-aishwarya-rai-paparazzi-encounter-anant-ambani-wedding-mumbai.html&amp;sa=U&amp;ved=2ahUKEwis24bUus-KAxVtSmwGHVPzIvIQr4kDegQICBAC&amp;usg=AOvVaw1PCcID2_0FtSaTTMLuYznL\"><div class=\"AlD19d\"> <span class=\"qXLe6d x3G5ab\"> <span class=\"fYyStc\">Careful', Aaradhaya...</span> </span> <span class=\"qXLe6d F9iS2e\"> <span class=\"fYyStc\">www.onmanorama.com</span> </span> </div></a></td></tr></table></div></div> </div> </div></td><td align=\"center\" class=\"e3goi\"><div class=\"jjVJ4e\"> <div> <div class=\"lIMUZd\"><div><table class=\"RntSmf\"><tr><td><a href=\"/url?q=https://www.flipkart.com/aishwarya-rai-saffron-dress-taal-paper-print/p/itm7fb6244a0a9fa%3Fpid%3DPOSDHZC5MVHBZDYG%26cmpid%3Dproduct.share.pp%26_refId%3DPP.8b586a74-e67c-4fd5-bd04-b8d2dacd1801.POSDHZC5MVHBZDYG&amp;sa=U&amp;ved=2ahUKEwis24bUus-KAxVtSmwGHVPzIvIQqoUBegQIBBAB&amp;usg=AOvVaw2FG_hGGJ-iiOIeiFtL6xos\"><div class=\"kCmkOe\"><img alt=\"\" class=\"DS1iW\" src=\"https://encrypted-tbn0.gstatic.com/images?q=tbn:ANd9GcSEjvdYmtTdlXJY4IPoK-J-u862cP5kqvzvAtCGNKaS5EzhQQMqIoTGK6RmDFE&amp;s\"/></div></a></td></tr><tr><td><a href=\"/url?q=https://www.flipkart.com/aishwarya-rai-saffron-dress-taal-paper-print/p/itm7fb6244a0a9fa%3Fpid%3DPOSDHZC5MVHBZDYG%26cmpid%3Dproduct.share.pp%26_refId%3DPP.8b586a74-e67c-4fd5-bd04-b8d2dacd1801.POSDHZC5MVHBZDYG&amp;sa=U&amp;ved=2ahUKEwis24bUus-KAxVtSmwGHVPzIvIQr4kDegQIBBAC&amp;usg=AOvVaw02xa0ea1Gx7d59HmJRnToO\"><div class=\"AlD19d\"> <span class=\"qXLe6d x3G5ab\"> <span class=\"fYyStc\">Aishwarya Rai in Saffron...</span> </span> <span class=\"qXLe6d F9iS2e\"> <span class=\"fYyStc\">www.flipkart.com</span> </span> </div></a></td></tr></table></div></div> </div> </div></td><td align=\"center\" class=\"e3goi\"><div class=\"jjVJ4e\"> <div> <div class=\"lIMUZd\"><div><table class=\"RntSmf\"><tr><td><a href=\"/url?q=https://www.gettyimages.in/photos/aishwarya-rai-2006&amp;sa=U&amp;ved=2ahUKEwis24bUus-KAxVtSmwGHVPzIvIQqoUBegQIABAB&amp;usg=AOvVaw0VwUT2Gf4CIKBVUX8n7Exq\"><div class=\"kCmkOe\"><img alt=\"\" class=\"DS1iW\" src=\"https://encrypted-tbn0.gstatic.com/images?q=tbn:ANd9GcTp1fvFs774k-q6oMTnXmOqjFU2sL1iTg2IXUD1Gp-TzU4a4tWLM6N3XhcMzg&amp;s\"/></div></a></td></tr><tr><td><a href=\"/url?q=https://www.gettyimages.in/photos/aishwarya-rai-2006&amp;sa=U&amp;ved=2ahUKEwis24bUus-KAxVtSmwGHVPzIvIQr4kDegQIABAC&amp;usg=AOvVaw2EqocWN70I4l8U0gre44KB\"><div class=\"AlD19d\"> <span class=\"qXLe6d x3G5ab\"> <span class=\"fYyStc\">355 Aishwarya Rai 2006...</span> </span> <span class=\"qXLe6d F9iS2e\"> <span class=\"fYyStc\">www.gettyimages.in</span> </span> </div></a></td></tr></table></div></div> </div> </div></td></tr></table></div><table class=\"uZgmoc\"><tbody><td><a class=\"frGj1b\" href=\"/search?q=Aishwarya+Rai&amp;sca_esv=04e68c913ef2a454&amp;rlz=1C9BKJA_enIN1059IN1059&amp;hl=en-IN&amp;biw=1536&amp;bih=791&amp;ie=UTF-8&amp;tbm=isch&amp;ei=Ko1yZ6yeDu2UseMP0-aLkQ8&amp;start=20&amp;sa=N\">Next &gt;</a></td></tbody></table><br/><div class=\"TuS8Ad\" data-ved=\"0ahUKEwis24bUus-KAxVtSmwGHVPzIvIQpyoIRQ\"><style>.VYM29{font-weight:bold}</style><div align=\"center\" class=\"HddGcc\"><span class=\"VYM29\">Yerawada, Pune, Maharashtra</span><span> - </span><span>From your IP address</span><span> - </span><a href=\"/url?q=https://support.google.com/websearch%3Fp%3Dws_settings_location%26hl%3Den-IN&amp;opi=89978449&amp;sa=U&amp;ved=0ahUKEwis24bUus-KAxVtSmwGHVPzIvIQty4IRg&amp;usg=AOvVaw26o0lvYZBP3EMgTO7wme60\">Learn more</a></div><div align=\"center\"><a class=\"rEM8G\" href=\"/url?q=https://accounts.google.com/ServiceLogin%3Fcontinue%3Dhttps://www.google.com/search%253Fsca_esv%253D04e68c913ef2a454%2526rlz%253D1C9BKJA_enIN1059IN1059%2526hl%253Den-IN%2526sxsrf%253DADLYWIK5YFRM2d6xxD4wcJVTNbSq5W0f2g:1735559217314%2526q%253DAishwarya%252BRai%2526fbs%253DAEQNm0Aa4sjWe7Rqy32pFwRj0UkWd8nbOJfsBGGB5IQQO6L3JzWreY9LW7LdGrLDAFqYDH3DF_waBUhtl7i7Xh3ndQb6Fn8zyWqVNDC6kxH2uU5tjMxNiRyN0Tu_IJ5U2F44t3g61CzFz2JBWAhJTb-xht_6LzY7f4dcpMn6CNH9wv57t_WlU8aPuzkPZ1e9zslXUCZi2jsHKdTxN4R4G2ipTlnIkLhU4A%2526sa%253DX%2526ved%253D2ahUKEwiJxIn1tc-KAxUTklYBHX4_N20QtKgLegQIJBAB%2526biw%253D1536%2526bih%253D791%2526dpr%253D1.25%2526tbm%253Disch%26hl%3Den&amp;opi=89978449&amp;sa=U&amp;ved=0ahUKEwis24bUus-KAxVtSmwGHVPzIvIQxs8CCEc&amp;usg=AOvVaw3t1WbFXiDyfAagkcN24_6y\">Sign in</a></div><div><table class=\"bookcf\"><tbody class=\"InWNIe\"><tr><td><a class=\"rEM8G\" href=\"https://www.google.com/preferences?hl=en&amp;sa=X&amp;ved=0ahUKEwis24bUus-KAxVtSmwGHVPzIvIQv5YECEg\">Settings</a></td><td><a class=\"rEM8G\" href=\"https://www.google.com/intl/en_in/policies/privacy/\">Privacy</a></td><td><a class=\"rEM8G\" href=\"https://www.google.com/intl/en_in/policies/terms/\">Terms</a></td></tr></tbody></table></div></div><div> </div></body></html>"
      ]
     },
     "execution_count": 52,
     "metadata": {},
     "output_type": "execute_result"
    }
   ],
   "source": [
    "Soup"
   ]
  },
  {
   "cell_type": "code",
   "execution_count": 53,
   "id": "3a22ff5d-d48d-44ce-aee8-1fab0925b6c1",
   "metadata": {},
   "outputs": [],
   "source": [
    "images_tags = Soup.find_all(\"img\")"
   ]
  },
  {
   "cell_type": "code",
   "execution_count": 59,
   "id": "a43b3a60-ac80-490a-bf32-9c60249d3709",
   "metadata": {},
   "outputs": [
    {
     "data": {
      "text/plain": [
       "[<img alt=\"Google\" class=\"kgJEQe\" src=\"/images/branding/searchlogo/1x/googlelogo_desk_heirloom_color_150x55dp.gif\"/>,\n",
       " <img alt=\"\" class=\"DS1iW\" src=\"https://encrypted-tbn0.gstatic.com/images?q=tbn:ANd9GcQWaJHsSrvDRtBCtPRx4ZKTuv8RRJ01FJzFc24qoMuEAgMNiAAPyk8dMQYqvQ&amp;s\"/>,\n",
       " <img alt=\"\" class=\"DS1iW\" src=\"https://encrypted-tbn0.gstatic.com/images?q=tbn:ANd9GcSomLHd2JkKOgX0wgHeGu-9Jr4wR3w_NfTfAyFAF9eC8kdLZm4ccVCG08p8mQ&amp;s\"/>,\n",
       " <img alt=\"\" class=\"DS1iW\" src=\"https://encrypted-tbn0.gstatic.com/images?q=tbn:ANd9GcQjhzg9svjE8q_kzX6wAdtqf4MhNk_mBQpgNzaE9brZtY-_p93UK7fsQiRedw&amp;s\"/>,\n",
       " <img alt=\"\" class=\"DS1iW\" src=\"https://encrypted-tbn0.gstatic.com/images?q=tbn:ANd9GcQ6qXtbuyywJLhMV0fJ-rlvkOBqpoDsoVreLQcq0NIAr6Cn4h3lHUVw1R9R-m0&amp;s\"/>,\n",
       " <img alt=\"\" class=\"DS1iW\" src=\"https://encrypted-tbn0.gstatic.com/images?q=tbn:ANd9GcQUX8b_yEr2dY89toG3MWw1VVw9PugmD5NiaAPIUh6n6s-DtyIoAGMql2MnGg&amp;s\"/>,\n",
       " <img alt=\"\" class=\"DS1iW\" src=\"https://encrypted-tbn0.gstatic.com/images?q=tbn:ANd9GcTkCj0rRAbUZN_KoYEjccVApR-qLAxrfAPheunLaymwvufFzrlow_Mmm_aL9D4&amp;s\"/>,\n",
       " <img alt=\"\" class=\"DS1iW\" src=\"https://encrypted-tbn0.gstatic.com/images?q=tbn:ANd9GcTxEW1hVnH6njqNEQDhWktb996sTnEaHM5dz_hSzzCSMqL6tM7VnRPWmM18fXA&amp;s\"/>,\n",
       " <img alt=\"\" class=\"DS1iW\" src=\"https://encrypted-tbn0.gstatic.com/images?q=tbn:ANd9GcRHfzVZ20_SjNKdgTxg_CHXzK_wxSq3MxkVmPi5k0nazC3xnXmDE81lfmyROQ&amp;s\"/>,\n",
       " <img alt=\"\" class=\"DS1iW\" src=\"https://encrypted-tbn0.gstatic.com/images?q=tbn:ANd9GcTnUl-RBdkY4W-E92O2VPeSKIOxP8rF4HNbqjUJH6wh7AxD4g9I_eULbL_bNJ0&amp;s\"/>,\n",
       " <img alt=\"\" class=\"DS1iW\" src=\"https://encrypted-tbn0.gstatic.com/images?q=tbn:ANd9GcSpWx2ATORwoGYSPTIrqkRTbjhlb17SoToWeiKNtLa-so0OiN9Rw09uU9wQpA&amp;s\"/>,\n",
       " <img alt=\"\" class=\"DS1iW\" src=\"https://encrypted-tbn0.gstatic.com/images?q=tbn:ANd9GcSch3M7O63_3yD8vS_RRc9JywT1H-y2B4moFxGelro5PLtUt8gACKMmU7eW5w&amp;s\"/>,\n",
       " <img alt=\"\" class=\"DS1iW\" src=\"https://encrypted-tbn0.gstatic.com/images?q=tbn:ANd9GcRitKN3BLw8tsq6EunUf05eOYZJnZhz24Au1mycmYi90lA_fN3-ElMV7gJpfN4&amp;s\"/>,\n",
       " <img alt=\"\" class=\"DS1iW\" src=\"https://encrypted-tbn0.gstatic.com/images?q=tbn:ANd9GcTWKBUbQJQ6RKVvuCoIWaMJ3T0csfQ4FW9jXMavtxA80ZKh6MQPSbzE-zjWDw&amp;s\"/>,\n",
       " <img alt=\"\" class=\"DS1iW\" src=\"https://encrypted-tbn0.gstatic.com/images?q=tbn:ANd9GcT0-UdUdmNVoJFKq93X_NuqNVx7LiMnVsTWObakCuXc37o2yynpNuZJQVYNWg&amp;s\"/>,\n",
       " <img alt=\"\" class=\"DS1iW\" src=\"https://encrypted-tbn0.gstatic.com/images?q=tbn:ANd9GcQ7JzAN0tRy8uNrhvpzmnopJM1B1bTyxvWgwT4bc1erA_RZtand0W-5_VtI2A&amp;s\"/>,\n",
       " <img alt=\"\" class=\"DS1iW\" src=\"https://encrypted-tbn0.gstatic.com/images?q=tbn:ANd9GcSJ86eOsdBn-QWtpM0igjpwHQR_3ClljwwQTVOFdhTg32K0nFaaZXSq_7GghpY&amp;s\"/>,\n",
       " <img alt=\"\" class=\"DS1iW\" src=\"https://encrypted-tbn0.gstatic.com/images?q=tbn:ANd9GcREPmSh_4brbTg61fkfVgcGl5QeFsdWZ0LmxymP2HRTTluYIFN9vQvnx-gQoQ&amp;s\"/>,\n",
       " <img alt=\"\" class=\"DS1iW\" src=\"https://encrypted-tbn0.gstatic.com/images?q=tbn:ANd9GcSLtyy0F1B7C5IlQ3x_NEJN-gQO1Jad5VluYcpCNILHzKxKi4_35tM_zu1kmpE&amp;s\"/>,\n",
       " <img alt=\"\" class=\"DS1iW\" src=\"https://encrypted-tbn0.gstatic.com/images?q=tbn:ANd9GcSEjvdYmtTdlXJY4IPoK-J-u862cP5kqvzvAtCGNKaS5EzhQQMqIoTGK6RmDFE&amp;s\"/>,\n",
       " <img alt=\"\" class=\"DS1iW\" src=\"https://encrypted-tbn0.gstatic.com/images?q=tbn:ANd9GcTp1fvFs774k-q6oMTnXmOqjFU2sL1iTg2IXUD1Gp-TzU4a4tWLM6N3XhcMzg&amp;s\"/>]"
      ]
     },
     "execution_count": 59,
     "metadata": {},
     "output_type": "execute_result"
    }
   ],
   "source": [
    "images_tags"
   ]
  },
  {
   "cell_type": "code",
   "execution_count": 61,
   "id": "ba8431c4-9035-4b5e-aa52-9178e9f77f51",
   "metadata": {},
   "outputs": [
    {
     "data": {
      "text/plain": [
       "21"
      ]
     },
     "execution_count": 61,
     "metadata": {},
     "output_type": "execute_result"
    }
   ],
   "source": [
    "len(images_tags)"
   ]
  },
  {
   "cell_type": "code",
   "execution_count": 63,
   "id": "e187f79d-65cb-49b1-85ba-e201da04e3ae",
   "metadata": {},
   "outputs": [],
   "source": [
    "del images_tags[0]"
   ]
  },
  {
   "cell_type": "code",
   "execution_count": 65,
   "id": "8c7637f1-eb64-4b46-89c6-6b58752ae947",
   "metadata": {},
   "outputs": [],
   "source": [
    "image_data_mongo = []\n",
    "for i in images_tags:\n",
    "    image_url = i['src']\n",
    "    image_data = requests.get(image_url).content\n",
    "    mydict = {\"index\": image_url ,\"image\" : image_data}\n",
    "    image_data_mongo.append(mydict)\n",
    "    with open(os.path.join(save_dir, f\"{query}_{images_tags.index(i)}.jpg\"),\"wb\") as f:  ## to save every thing in directory images\n",
    "        f.write(image_data)\n"
   ]
  },
  {
   "cell_type": "code",
   "execution_count": null,
   "id": "48645858-edaa-437b-807f-e18c89dd758b",
   "metadata": {},
   "outputs": [],
   "source": []
  },
  {
   "cell_type": "code",
   "execution_count": null,
   "id": "c625d54b-4ff9-4cfa-bc46-1de978c64b1b",
   "metadata": {},
   "outputs": [],
   "source": []
  }
 ],
 "metadata": {
  "kernelspec": {
   "display_name": "Python 3 (ipykernel)",
   "language": "python",
   "name": "python3"
  },
  "language_info": {
   "codemirror_mode": {
    "name": "ipython",
    "version": 3
   },
   "file_extension": ".py",
   "mimetype": "text/x-python",
   "name": "python",
   "nbconvert_exporter": "python",
   "pygments_lexer": "ipython3",
   "version": "3.11.7"
  }
 },
 "nbformat": 4,
 "nbformat_minor": 5
}
